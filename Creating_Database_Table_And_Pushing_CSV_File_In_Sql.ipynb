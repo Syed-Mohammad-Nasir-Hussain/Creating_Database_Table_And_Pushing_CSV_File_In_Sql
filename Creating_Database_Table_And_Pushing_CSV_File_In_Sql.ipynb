{
 "cells": [
  {
   "cell_type": "markdown",
   "id": "5be1f8a9",
   "metadata": {},
   "source": [
    "# Installing Required Libraries"
   ]
  },
  {
   "cell_type": "code",
   "execution_count": 1,
   "id": "872f51db",
   "metadata": {},
   "outputs": [
    {
     "name": "stdout",
     "output_type": "stream",
     "text": [
      "Requirement already satisfied: pymysql in c:\\users\\user007\\appdata\\local\\programs\\python\\python310\\lib\\site-packages (1.0.2)\n"
     ]
    }
   ],
   "source": [
    "!pip install pymysql"
   ]
  },
  {
   "cell_type": "code",
   "execution_count": 2,
   "id": "9fe0d7e1",
   "metadata": {},
   "outputs": [
    {
     "name": "stdout",
     "output_type": "stream",
     "text": [
      "Requirement already satisfied: pandas in c:\\users\\user007\\appdata\\local\\programs\\python\\python310\\lib\\site-packages (1.5.0)\n",
      "Requirement already satisfied: pytz>=2020.1 in c:\\users\\user007\\appdata\\local\\programs\\python\\python310\\lib\\site-packages (from pandas) (2022.4)\n",
      "Requirement already satisfied: python-dateutil>=2.8.1 in c:\\users\\user007\\appdata\\local\\programs\\python\\python310\\lib\\site-packages (from pandas) (2.8.2)\n",
      "Requirement already satisfied: numpy>=1.21.0 in c:\\users\\user007\\appdata\\local\\programs\\python\\python310\\lib\\site-packages (from pandas) (1.23.3)\n",
      "Requirement already satisfied: six>=1.5 in c:\\users\\user007\\appdata\\local\\programs\\python\\python310\\lib\\site-packages (from python-dateutil>=2.8.1->pandas) (1.16.0)\n"
     ]
    }
   ],
   "source": [
    "!pip install pandas"
   ]
  },
  {
   "cell_type": "markdown",
   "id": "8d734dcd",
   "metadata": {},
   "source": [
    "### Importing Required Libraries"
   ]
  },
  {
   "cell_type": "code",
   "execution_count": 3,
   "id": "77ec5d44",
   "metadata": {},
   "outputs": [],
   "source": [
    "import pymysql\n",
    "import pandas as pd"
   ]
  },
  {
   "cell_type": "markdown",
   "id": "2eb74c1a",
   "metadata": {},
   "source": [
    "### Creating Sql Connection by providing required host,user,password and database name"
   ]
  },
  {
   "cell_type": "code",
   "execution_count": 4,
   "id": "6d48e49c",
   "metadata": {},
   "outputs": [],
   "source": [
    "db=pymysql.connect(host=\"localhost\",user=\"root\",\n",
    "                  password=\"xxxxxx\")"
   ]
  },
  {
   "cell_type": "markdown",
   "id": "3ec527a4",
   "metadata": {},
   "source": [
    "### Creating a cursor object using the cursor() method"
   ]
  },
  {
   "cell_type": "code",
   "execution_count": 5,
   "id": "f3bb917f",
   "metadata": {},
   "outputs": [],
   "source": [
    "cursor=db.cursor()"
   ]
  },
  {
   "cell_type": "markdown",
   "id": "a045f547",
   "metadata": {},
   "source": [
    "### Deleting Database if exists"
   ]
  },
  {
   "cell_type": "code",
   "execution_count": 6,
   "id": "f3fdd197",
   "metadata": {},
   "outputs": [
    {
     "data": {
      "text/plain": [
       "1"
      ]
     },
     "execution_count": 6,
     "metadata": {},
     "output_type": "execute_result"
    }
   ],
   "source": [
    "cursor.execute(\"DROP DATABASE IF EXISTS TEST1\")"
   ]
  },
  {
   "cell_type": "markdown",
   "id": "3f48cf4c",
   "metadata": {},
   "source": [
    "### Creating Database"
   ]
  },
  {
   "cell_type": "code",
   "execution_count": 7,
   "id": "ceed2964",
   "metadata": {},
   "outputs": [],
   "source": [
    "sql ='''CREATE DATABASE TEST1'''"
   ]
  },
  {
   "cell_type": "code",
   "execution_count": 8,
   "id": "4333fc50",
   "metadata": {},
   "outputs": [
    {
     "data": {
      "text/plain": [
       "1"
      ]
     },
     "execution_count": 8,
     "metadata": {},
     "output_type": "execute_result"
    }
   ],
   "source": [
    "cursor.execute(sql)"
   ]
  },
  {
   "cell_type": "markdown",
   "id": "fc9087b2",
   "metadata": {},
   "source": [
    "### Deleting Table if exists"
   ]
  },
  {
   "cell_type": "code",
   "execution_count": 9,
   "id": "de7facdf",
   "metadata": {},
   "outputs": [
    {
     "data": {
      "text/plain": [
       "0"
      ]
     },
     "execution_count": 9,
     "metadata": {},
     "output_type": "execute_result"
    }
   ],
   "source": [
    "cursor.execute(\"DROP TABLE IF EXISTS TEST1.EMPLOYEE\")"
   ]
  },
  {
   "cell_type": "markdown",
   "id": "5bb6e22a",
   "metadata": {},
   "source": [
    "### Creating Table"
   ]
  },
  {
   "cell_type": "code",
   "execution_count": 10,
   "id": "047557bf",
   "metadata": {},
   "outputs": [],
   "source": [
    "sql1 ='''CREATE TABLE TEST1.EMPLOYEE(\n",
    "   FIRST_NAME CHAR(20) NOT NULL,\n",
    "   LAST_NAME CHAR(20),\n",
    "   AGE INT,\n",
    "   SEX CHAR(1),\n",
    "   INCOME FLOAT\n",
    ")'''"
   ]
  },
  {
   "cell_type": "code",
   "execution_count": 11,
   "id": "e209c1b1",
   "metadata": {},
   "outputs": [
    {
     "data": {
      "text/plain": [
       "0"
      ]
     },
     "execution_count": 11,
     "metadata": {},
     "output_type": "execute_result"
    }
   ],
   "source": [
    "cursor.execute(sql1)"
   ]
  },
  {
   "cell_type": "markdown",
   "id": "ba9e5a6f",
   "metadata": {},
   "source": [
    "### Pushing Data to table from csv file"
   ]
  },
  {
   "cell_type": "code",
   "execution_count": 12,
   "id": "4929fff1",
   "metadata": {},
   "outputs": [],
   "source": [
    "data=pd.read_csv('employee.csv')"
   ]
  },
  {
   "cell_type": "code",
   "execution_count": 13,
   "id": "e0ca84da",
   "metadata": {},
   "outputs": [
    {
     "data": {
      "text/html": [
       "<div>\n",
       "<style scoped>\n",
       "    .dataframe tbody tr th:only-of-type {\n",
       "        vertical-align: middle;\n",
       "    }\n",
       "\n",
       "    .dataframe tbody tr th {\n",
       "        vertical-align: top;\n",
       "    }\n",
       "\n",
       "    .dataframe thead th {\n",
       "        text-align: right;\n",
       "    }\n",
       "</style>\n",
       "<table border=\"1\" class=\"dataframe\">\n",
       "  <thead>\n",
       "    <tr style=\"text-align: right;\">\n",
       "      <th></th>\n",
       "      <th>FIRST_NAME</th>\n",
       "      <th>LAST_NAME</th>\n",
       "      <th>AGE</th>\n",
       "      <th>SEX</th>\n",
       "      <th>INCOME</th>\n",
       "    </tr>\n",
       "  </thead>\n",
       "  <tbody>\n",
       "    <tr>\n",
       "      <th>0</th>\n",
       "      <td>Nasir</td>\n",
       "      <td>Hussain</td>\n",
       "      <td>26</td>\n",
       "      <td>M</td>\n",
       "      <td>10</td>\n",
       "    </tr>\n",
       "    <tr>\n",
       "      <th>1</th>\n",
       "      <td>Suhel</td>\n",
       "      <td>Hussain</td>\n",
       "      <td>24</td>\n",
       "      <td>M</td>\n",
       "      <td>5</td>\n",
       "    </tr>\n",
       "    <tr>\n",
       "      <th>2</th>\n",
       "      <td>Irfan</td>\n",
       "      <td>Khan</td>\n",
       "      <td>28</td>\n",
       "      <td>M</td>\n",
       "      <td>15</td>\n",
       "    </tr>\n",
       "    <tr>\n",
       "      <th>3</th>\n",
       "      <td>Rida</td>\n",
       "      <td>Fathima</td>\n",
       "      <td>22</td>\n",
       "      <td>F</td>\n",
       "      <td>3</td>\n",
       "    </tr>\n",
       "  </tbody>\n",
       "</table>\n",
       "</div>"
      ],
      "text/plain": [
       "  FIRST_NAME LAST_NAME  AGE SEX  INCOME\n",
       "0      Nasir   Hussain   26   M      10\n",
       "1      Suhel   Hussain   24   M       5\n",
       "2      Irfan      Khan   28   M      15\n",
       "3       Rida   Fathima   22   F       3"
      ]
     },
     "execution_count": 13,
     "metadata": {},
     "output_type": "execute_result"
    }
   ],
   "source": [
    "data"
   ]
  },
  {
   "cell_type": "code",
   "execution_count": 14,
   "id": "1581b60f",
   "metadata": {},
   "outputs": [],
   "source": [
    "for row in data.itertuples():\n",
    "    cursor.execute('''\n",
    "                INSERT INTO test1.employee (FIRST_NAME, LAST_NAME, AGE, SEX, INCOME)\n",
    "                VALUES (%s,%s,%s,%s,%s)\n",
    "                ''',\n",
    "                (row.FIRST_NAME, \n",
    "                row.LAST_NAME,\n",
    "                row.AGE,\n",
    "                row.SEX,\n",
    "                row.INCOME\n",
    "                ))"
   ]
  },
  {
   "cell_type": "code",
   "execution_count": 15,
   "id": "cfe337c8",
   "metadata": {},
   "outputs": [],
   "source": [
    "db.commit()"
   ]
  },
  {
   "cell_type": "code",
   "execution_count": 16,
   "id": "6f57155b",
   "metadata": {},
   "outputs": [],
   "source": [
    "sql2='''SELECT * FROM test1.employee'''"
   ]
  },
  {
   "cell_type": "code",
   "execution_count": 17,
   "id": "a4db0ffe",
   "metadata": {},
   "outputs": [
    {
     "data": {
      "text/plain": [
       "4"
      ]
     },
     "execution_count": 17,
     "metadata": {},
     "output_type": "execute_result"
    }
   ],
   "source": [
    "cursor.execute(sql2)"
   ]
  },
  {
   "cell_type": "markdown",
   "id": "493ed922",
   "metadata": {},
   "source": [
    "### Converting the data to dataframe"
   ]
  },
  {
   "cell_type": "code",
   "execution_count": 18,
   "id": "b69ba870",
   "metadata": {},
   "outputs": [],
   "source": [
    "df=pd.DataFrame(cursor.fetchall())"
   ]
  },
  {
   "cell_type": "markdown",
   "id": "3a2128b3",
   "metadata": {},
   "source": [
    "### Getting columns to the dataframe"
   ]
  },
  {
   "cell_type": "code",
   "execution_count": 19,
   "id": "9d3e37bc",
   "metadata": {},
   "outputs": [],
   "source": [
    "col=[]\n",
    "for i in cursor.description:\n",
    "    col.append(i[0])"
   ]
  },
  {
   "cell_type": "code",
   "execution_count": 20,
   "id": "fde0d830",
   "metadata": {},
   "outputs": [],
   "source": [
    "df.columns=col"
   ]
  },
  {
   "cell_type": "markdown",
   "id": "2a5caa8d",
   "metadata": {},
   "source": [
    "### Closing database connection"
   ]
  },
  {
   "cell_type": "code",
   "execution_count": 21,
   "id": "8b3e7d0c",
   "metadata": {},
   "outputs": [],
   "source": [
    "db.close()"
   ]
  },
  {
   "cell_type": "markdown",
   "id": "18cedcd3",
   "metadata": {},
   "source": [
    "### Result"
   ]
  },
  {
   "cell_type": "code",
   "execution_count": 22,
   "id": "a127bcdd",
   "metadata": {},
   "outputs": [
    {
     "data": {
      "text/html": [
       "<div>\n",
       "<style scoped>\n",
       "    .dataframe tbody tr th:only-of-type {\n",
       "        vertical-align: middle;\n",
       "    }\n",
       "\n",
       "    .dataframe tbody tr th {\n",
       "        vertical-align: top;\n",
       "    }\n",
       "\n",
       "    .dataframe thead th {\n",
       "        text-align: right;\n",
       "    }\n",
       "</style>\n",
       "<table border=\"1\" class=\"dataframe\">\n",
       "  <thead>\n",
       "    <tr style=\"text-align: right;\">\n",
       "      <th></th>\n",
       "      <th>FIRST_NAME</th>\n",
       "      <th>LAST_NAME</th>\n",
       "      <th>AGE</th>\n",
       "      <th>SEX</th>\n",
       "      <th>INCOME</th>\n",
       "    </tr>\n",
       "  </thead>\n",
       "  <tbody>\n",
       "    <tr>\n",
       "      <th>0</th>\n",
       "      <td>Nasir</td>\n",
       "      <td>Hussain</td>\n",
       "      <td>26</td>\n",
       "      <td>M</td>\n",
       "      <td>10.0</td>\n",
       "    </tr>\n",
       "    <tr>\n",
       "      <th>1</th>\n",
       "      <td>Suhel</td>\n",
       "      <td>Hussain</td>\n",
       "      <td>24</td>\n",
       "      <td>M</td>\n",
       "      <td>5.0</td>\n",
       "    </tr>\n",
       "    <tr>\n",
       "      <th>2</th>\n",
       "      <td>Irfan</td>\n",
       "      <td>Khan</td>\n",
       "      <td>28</td>\n",
       "      <td>M</td>\n",
       "      <td>15.0</td>\n",
       "    </tr>\n",
       "    <tr>\n",
       "      <th>3</th>\n",
       "      <td>Rida</td>\n",
       "      <td>Fathima</td>\n",
       "      <td>22</td>\n",
       "      <td>F</td>\n",
       "      <td>3.0</td>\n",
       "    </tr>\n",
       "  </tbody>\n",
       "</table>\n",
       "</div>"
      ],
      "text/plain": [
       "  FIRST_NAME LAST_NAME  AGE SEX  INCOME\n",
       "0      Nasir   Hussain   26   M    10.0\n",
       "1      Suhel   Hussain   24   M     5.0\n",
       "2      Irfan      Khan   28   M    15.0\n",
       "3       Rida   Fathima   22   F     3.0"
      ]
     },
     "execution_count": 22,
     "metadata": {},
     "output_type": "execute_result"
    }
   ],
   "source": [
    "df"
   ]
  },
  {
   "cell_type": "code",
   "execution_count": null,
   "id": "310233b0",
   "metadata": {},
   "outputs": [],
   "source": []
  }
 ],
 "metadata": {
  "kernelspec": {
   "display_name": "Python 3 (ipykernel)",
   "language": "python",
   "name": "python3"
  },
  "language_info": {
   "codemirror_mode": {
    "name": "ipython",
    "version": 3
   },
   "file_extension": ".py",
   "mimetype": "text/x-python",
   "name": "python",
   "nbconvert_exporter": "python",
   "pygments_lexer": "ipython3",
   "version": "3.10.7"
  }
 },
 "nbformat": 4,
 "nbformat_minor": 5
}
